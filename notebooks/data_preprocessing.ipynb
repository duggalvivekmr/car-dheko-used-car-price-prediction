{
 "cells": [
  {
   "cell_type": "markdown",
   "id": "8762cbf6",
   "metadata": {},
   "source": [
    "Import and concatenate"
   ]
  },
  {
   "cell_type": "code",
   "execution_count": 35,
   "id": "98429efe",
   "metadata": {},
   "outputs": [
    {
     "name": "stdout",
     "output_type": "stream",
     "text": [
      "Loaded Bangalore - (1481, 6)\n",
      "Loaded Chennai - (1419, 6)\n",
      "Loaded Delhi - (1485, 6)\n",
      "Loaded Hyderabad - (1483, 6)\n",
      "Loaded Jaipur - (1120, 6)\n",
      "Loaded Kolkata - (1381, 6)\n",
      "\n",
      "✅ combined DataFrame shape: (8369, 6)\n",
      "Combined DataFrame columns: ['new_car_detail', 'new_car_overview', 'new_car_feature', 'new_car_specs', 'car_links', 'City']\n",
      "Combined DataFrame head:\n",
      "                                      new_car_detail  \\\n",
      "0  {'it': 0, 'ft': 'Petrol', 'bt': 'Hatchback', '...   \n",
      "1  {'it': 0, 'ft': 'Petrol', 'bt': 'SUV', 'km': '...   \n",
      "2  {'it': 0, 'ft': 'Petrol', 'bt': 'Hatchback', '...   \n",
      "3  {'it': 0, 'ft': 'Petrol', 'bt': 'Sedan', 'km':...   \n",
      "4  {'it': 0, 'ft': 'Diesel', 'bt': 'SUV', 'km': '...   \n",
      "\n",
      "                                    new_car_overview  \\\n",
      "0  {'heading': 'Car overview', 'top': [{'key': 'R...   \n",
      "1  {'heading': 'Car overview', 'top': [{'key': 'R...   \n",
      "2  {'heading': 'Car overview', 'top': [{'key': 'R...   \n",
      "3  {'heading': 'Car overview', 'top': [{'key': 'R...   \n",
      "4  {'heading': 'Car overview', 'top': [{'key': 'R...   \n",
      "\n",
      "                                     new_car_feature  \\\n",
      "0  {'heading': 'Features', 'top': [{'value': 'Pow...   \n",
      "1  {'heading': 'Features', 'top': [{'value': 'Pow...   \n",
      "2  {'heading': 'Features', 'top': [{'value': 'Pow...   \n",
      "3  {'heading': 'Features', 'top': [{'value': 'Pow...   \n",
      "4  {'heading': 'Features', 'top': [{'value': 'Pow...   \n",
      "\n",
      "                                       new_car_specs  \\\n",
      "0  {'heading': 'Specifications', 'top': [{'key': ...   \n",
      "1  {'heading': 'Specifications', 'top': [{'key': ...   \n",
      "2  {'heading': 'Specifications', 'top': [{'key': ...   \n",
      "3  {'heading': 'Specifications', 'top': [{'key': ...   \n",
      "4  {'heading': 'Specifications', 'top': [{'key': ...   \n",
      "\n",
      "                                           car_links       City  \n",
      "0  https://www.cardekho.com/used-car-details/used...  Bangalore  \n",
      "1  https://www.cardekho.com/buy-used-car-details/...  Bangalore  \n",
      "2  https://www.cardekho.com/used-car-details/used...  Bangalore  \n",
      "3  https://www.cardekho.com/buy-used-car-details/...  Bangalore  \n",
      "4  https://www.cardekho.com/used-car-details/used...  Bangalore  \n"
     ]
    }
   ],
   "source": [
    "import pandas as pd\n",
    "import os\n",
    "\n",
    "# File paths\n",
    "base_path = os.path.join(\"..\",\"data\",\"raw\")\n",
    "file_paths = {\n",
    "\t\"Bangalore\": os.path.join(base_path, \"bangalore_cars.xlsx\"),\n",
    "\t\"Chennai\": os.path.join(base_path, \"chennai_cars.xlsx\"),\n",
    "\t\"Delhi\": os.path.join(base_path, \"delhi_cars.xlsx\"),\n",
    "\t\"Hyderabad\": os.path.join(base_path, \"hyderabad_cars.xlsx\"),\n",
    "\t\"Jaipur\": os.path.join(base_path, \"jaipur_cars.xlsx\"),\n",
    "\t\"Kolkata\": os.path.join(base_path, \"kolkata_cars.xlsx\"),\n",
    "}\n",
    "\n",
    "# Read and structure each dataset and add a 'City' column\n",
    "dataframes = []\n",
    "for city, file_path in file_paths.items():\n",
    "    try:\n",
    "        df = pd.read_excel(file_path, engine=\"openpyxl\")\n",
    "        df['City'] = city\n",
    "        dataframes.append(df)\n",
    "        print(f\"Loaded {city} - {df.shape}\")\n",
    "    except Exception as e:\n",
    "        print(f\"Failed to load {city} from {file_path}: {e}\")\n",
    "\n",
    "# combine all dataframes into a single dataframe\n",
    "if dataframes:\n",
    "    combined_df = pd.concat(dataframes, ignore_index=True)\n",
    "    print(f\"\\n✅ combined DataFrame shape: {combined_df.shape}\")\n",
    "    print(f\"Combined DataFrame columns: {combined_df.columns.tolist()}\")\n",
    "    print(f\"Combined DataFrame head:\\n{combined_df.head()}\")\n",
    "\n",
    "    "
   ]
  },
  {
   "cell_type": "code",
   "execution_count": 36,
   "id": "e9893c3b",
   "metadata": {},
   "outputs": [
    {
     "name": "stdout",
     "output_type": "stream",
     "text": [
      "d:\\Education\\Data Science\\Project\\car-dheko-used-car-price-prediction\\notebooks\n"
     ]
    }
   ],
   "source": [
    "import os\n",
    "print(os.getcwd())\n"
   ]
  },
  {
   "cell_type": "markdown",
   "id": "e41ef159",
   "metadata": {},
   "source": [
    "Handline Missing Values"
   ]
  },
  {
   "cell_type": "markdown",
   "id": "fe518a43",
   "metadata": {},
   "source": [
    "Step 1: Identify missing values"
   ]
  },
  {
   "cell_type": "code",
   "execution_count": 37,
   "id": "cb232c8e",
   "metadata": {},
   "outputs": [
    {
     "name": "stdout",
     "output_type": "stream",
     "text": [
      "🔍 Missing Values Summary:\n",
      "Empty DataFrame\n",
      "Columns: [Missing Values, Percentage]\n",
      "Index: []\n"
     ]
    }
   ],
   "source": [
    "# summary of the missing values\n",
    "missing_summary = combined_df.isnull().sum().sort_values(ascending=False)\n",
    "missing_percentage = (missing_summary / len(combined_df)) * 100\n",
    "\n",
    "missing_df = pd.DataFrame({\n",
    "    'Missing Values': missing_summary,\n",
    "    'Percentage': missing_percentage.round(2)\n",
    "})\n",
    "print(\"🔍 Missing Values Summary:\")\n",
    "print(missing_df[missing_df['Missing Values'] > 0])"
   ]
  },
  {
   "cell_type": "code",
   "execution_count": 38,
   "id": "1c28e184",
   "metadata": {},
   "outputs": [
    {
     "data": {
      "application/vnd.microsoft.datawrangler.viewer.v0+json": {
       "columns": [
        {
         "name": "index",
         "rawType": "object",
         "type": "string"
        },
        {
         "name": "0",
         "rawType": "object",
         "type": "unknown"
        }
       ],
       "ref": "d7618dab-b305-4479-9646-a2c40cb6c5f7",
       "rows": [
        [
         "new_car_detail",
         "object"
        ],
        [
         "new_car_overview",
         "object"
        ],
        [
         "new_car_feature",
         "object"
        ],
        [
         "new_car_specs",
         "object"
        ],
        [
         "car_links",
         "object"
        ],
        [
         "City",
         "object"
        ]
       ],
       "shape": {
        "columns": 1,
        "rows": 6
       }
      },
      "text/plain": [
       "new_car_detail      object\n",
       "new_car_overview    object\n",
       "new_car_feature     object\n",
       "new_car_specs       object\n",
       "car_links           object\n",
       "City                object\n",
       "dtype: object"
      ]
     },
     "execution_count": 38,
     "metadata": {},
     "output_type": "execute_result"
    }
   ],
   "source": [
    "combined_df.dtypes"
   ]
  },
  {
   "cell_type": "code",
   "execution_count": 39,
   "id": "afa58a90",
   "metadata": {},
   "outputs": [
    {
     "data": {
      "application/vnd.microsoft.datawrangler.viewer.v0+json": {
       "columns": [
        {
         "name": "index",
         "rawType": "int64",
         "type": "integer"
        },
        {
         "name": "new_car_detail",
         "rawType": "object",
         "type": "string"
        }
       ],
       "ref": "903a6c91-bcc7-4b8f-8911-aa71dc56b887",
       "rows": [
        [
         "0",
         "{'it': 0, 'ft': 'Petrol', 'bt': 'Hatchback', 'km': '1,20,000', 'transmission': 'Manual', 'ownerNo': 3, 'owner': '3rd Owner', 'oem': 'Maruti', 'model': 'Maruti Celerio', 'modelYear': 2015, 'centralVariantId': 3979, 'variantName': 'VXI', 'price': '₹ 4 Lakh', 'priceActual': '', 'priceSaving': '', 'priceFixedText': None, 'trendingText': {'imgUrl': 'https://stimg.cardekho.com/used-cars/common/icons/trending.svg', 'heading': 'Trending Car!', 'desc': 'High chances of sale in next 6 days'}}"
        ],
        [
         "1",
         "{'it': 0, 'ft': 'Petrol', 'bt': 'SUV', 'km': '32,706', 'transmission': 'Manual', 'ownerNo': 2, 'owner': '2nd Owner', 'oem': 'Ford', 'model': 'Ford Ecosport', 'modelYear': 2018, 'centralVariantId': 6087, 'variantName': '1.5 Petrol Titanium BSIV', 'price': '₹ 8.11 Lakh', 'priceActual': '', 'priceSaving': '', 'priceFixedText': None, 'trendingText': {'imgUrl': 'https://stimg.cardekho.com/used-cars/common/icons/trending.svg', 'heading': 'Trending Car!', 'desc': 'High chances of sale in next 6 days'}}"
        ],
        [
         "2",
         "{'it': 0, 'ft': 'Petrol', 'bt': 'Hatchback', 'km': '11,949', 'transmission': 'Manual', 'ownerNo': 1, 'owner': '1st Owner', 'oem': 'Tata', 'model': 'Tata Tiago', 'modelYear': 2018, 'centralVariantId': 2983, 'variantName': '1.2 Revotron XZ', 'price': '₹ 5.85 Lakh', 'priceActual': '', 'priceSaving': '', 'priceFixedText': None, 'trendingText': {'imgUrl': 'https://stimg.cardekho.com/used-cars/common/icons/trending.svg', 'heading': 'Trending Car!', 'desc': 'High chances of sale in next 6 days'}}"
        ],
        [
         "3",
         "{'it': 0, 'ft': 'Petrol', 'bt': 'Sedan', 'km': '17,794', 'transmission': 'Manual', 'ownerNo': 1, 'owner': '1st Owner', 'oem': 'Hyundai', 'model': 'Hyundai Xcent', 'modelYear': 2014, 'centralVariantId': 1867, 'variantName': '1.2 Kappa S Option', 'price': '₹ 4.62 Lakh', 'priceActual': '', 'priceSaving': '', 'priceFixedText': None, 'trendingText': {'imgUrl': 'https://stimg.cardekho.com/used-cars/common/icons/trending.svg', 'heading': 'Trending Car!', 'desc': 'High chances of sale in next 6 days'}}"
        ],
        [
         "4",
         "{'it': 0, 'ft': 'Diesel', 'bt': 'SUV', 'km': '60,000', 'transmission': 'Manual', 'ownerNo': 1, 'owner': '1st Owner', 'oem': 'Maruti', 'model': 'Maruti SX4 S Cross', 'modelYear': 2015, 'centralVariantId': 4277, 'variantName': 'DDiS 200 Zeta', 'price': '₹ 7.90 Lakh', 'priceActual': '', 'priceSaving': '', 'priceFixedText': None, 'trendingText': {'imgUrl': 'https://stimg.cardekho.com/used-cars/common/icons/trending.svg', 'heading': 'Trending Car!', 'desc': 'High chances of sale in next 6 days'}}"
        ],
        [
         "5",
         "{'it': 0, 'ft': 'Diesel', 'bt': 'SUV', 'km': '20,000', 'transmission': 'Manual', 'ownerNo': 1, 'owner': '1st Owner', 'oem': 'Jeep', 'model': 'Jeep Compass', 'modelYear': 2020, 'centralVariantId': 5931, 'variantName': '2.0 Longitude BSIV', 'price': '₹ 19 Lakh', 'priceActual': '', 'priceSaving': '', 'priceFixedText': None, 'trendingText': {'imgUrl': 'https://stimg.cardekho.com/used-cars/common/icons/trending.svg', 'heading': 'Trending Car!', 'desc': 'High chances of sale in next 6 days'}}"
        ],
        [
         "6",
         "{'it': 0, 'ft': 'Petrol', 'bt': 'Hatchback', 'km': '37,772', 'transmission': 'Manual', 'ownerNo': 1, 'owner': '1st Owner', 'oem': 'Datsun', 'model': 'Datsun GO', 'modelYear': 2017, 'centralVariantId': 5223, 'variantName': 'T Option BSIV', 'price': '₹ 3.45 Lakh', 'priceActual': '', 'priceSaving': '', 'priceFixedText': None, 'trendingText': {'imgUrl': 'https://stimg.cardekho.com/used-cars/common/icons/trending.svg', 'heading': 'Trending Car!', 'desc': 'High chances of sale in next 6 days'}}"
        ],
        [
         "7",
         "{'it': 0, 'ft': 'Petrol', 'bt': 'SUV', 'km': '30,000', 'transmission': 'Automatic', 'ownerNo': 1, 'owner': '1st Owner', 'oem': 'Hyundai', 'model': 'Hyundai Venue', 'modelYear': 2021, 'centralVariantId': 6946, 'variantName': 'SX Plus Turbo DCT BSIV', 'price': '₹ 12 Lakh', 'priceActual': '', 'priceSaving': '', 'priceFixedText': None, 'trendingText': {'imgUrl': 'https://stimg.cardekho.com/used-cars/common/icons/trending.svg', 'heading': 'Trending Car!', 'desc': 'High chances of sale in next 6 days'}}"
        ],
        [
         "8",
         "{'it': 0, 'ft': 'Petrol', 'bt': 'Sedan', 'km': '37,000', 'transmission': 'Automatic', 'ownerNo': 1, 'owner': '1st Owner', 'oem': 'Maruti', 'model': 'Maruti Ciaz', 'modelYear': 2018, 'centralVariantId': 6555, 'variantName': 'Alpha Automatic BSIV', 'price': '₹ 9.60 Lakh', 'priceActual': '', 'priceSaving': '', 'priceFixedText': None, 'trendingText': {'imgUrl': 'https://stimg.cardekho.com/used-cars/common/icons/trending.svg', 'heading': 'Trending Car!', 'desc': 'High chances of sale in next 6 days'}}"
        ],
        [
         "9",
         "{'it': 0, 'ft': 'Petrol', 'bt': 'Hatchback', 'km': '11,949', 'transmission': 'Manual', 'ownerNo': 1, 'owner': '1st Owner', 'oem': 'Tata', 'model': 'Tata Tiago', 'modelYear': 2017, 'centralVariantId': 2985, 'variantName': '1.2 Revotron XZ WO Alloy', 'price': '₹ 5.85 Lakh', 'priceActual': '', 'priceSaving': '', 'priceFixedText': None, 'trendingText': {'imgUrl': 'https://stimg.cardekho.com/used-cars/common/icons/trending.svg', 'heading': 'Trending Car!', 'desc': 'High chances of sale in next 6 days'}}"
        ]
       ],
       "shape": {
        "columns": 1,
        "rows": 10
       }
      },
      "text/plain": [
       "0    {'it': 0, 'ft': 'Petrol', 'bt': 'Hatchback', '...\n",
       "1    {'it': 0, 'ft': 'Petrol', 'bt': 'SUV', 'km': '...\n",
       "2    {'it': 0, 'ft': 'Petrol', 'bt': 'Hatchback', '...\n",
       "3    {'it': 0, 'ft': 'Petrol', 'bt': 'Sedan', 'km':...\n",
       "4    {'it': 0, 'ft': 'Diesel', 'bt': 'SUV', 'km': '...\n",
       "5    {'it': 0, 'ft': 'Diesel', 'bt': 'SUV', 'km': '...\n",
       "6    {'it': 0, 'ft': 'Petrol', 'bt': 'Hatchback', '...\n",
       "7    {'it': 0, 'ft': 'Petrol', 'bt': 'SUV', 'km': '...\n",
       "8    {'it': 0, 'ft': 'Petrol', 'bt': 'Sedan', 'km':...\n",
       "9    {'it': 0, 'ft': 'Petrol', 'bt': 'Hatchback', '...\n",
       "Name: new_car_detail, dtype: object"
      ]
     },
     "execution_count": 39,
     "metadata": {},
     "output_type": "execute_result"
    }
   ],
   "source": [
    "combined_df['new_car_detail'].iloc[0:10]"
   ]
  },
  {
   "cell_type": "code",
   "execution_count": 41,
   "id": "cb6aed6c",
   "metadata": {},
   "outputs": [
    {
     "name": "stdout",
     "output_type": "stream",
     "text": [
      "✅ Converted 'new_car_detail' to dictionaries.\n",
      "0    {'it': 0, 'ft': 'Petrol', 'bt': 'Hatchback', '...\n",
      "1    {'it': 0, 'ft': 'Petrol', 'bt': 'SUV', 'km': '...\n",
      "2    {'it': 0, 'ft': 'Petrol', 'bt': 'Hatchback', '...\n",
      "3    {'it': 0, 'ft': 'Petrol', 'bt': 'Sedan', 'km':...\n",
      "4    {'it': 0, 'ft': 'Diesel', 'bt': 'SUV', 'km': '...\n",
      "Name: new_car_detail, dtype: object\n"
     ]
    }
   ],
   "source": [
    "# Convert string representation of dictionaries to actual dictionaries\n",
    "import ast\n",
    "\n",
    "# Convert 'new_car_detail' column to dictionaries\n",
    "combined_df[\"new_car_detail\"] = combined_df[\"new_car_detail\"].apply(lambda x: ast.literal_eval(x) if isinstance(x, str) else x)  \n",
    "print(\"✅ Converted 'new_car_detail' to dictionaries.\")\n",
    "print(combined_df['new_car_detail'].head())  "
   ]
  },
  {
   "cell_type": "code",
   "execution_count": 42,
   "id": "4c95c127",
   "metadata": {},
   "outputs": [
    {
     "name": "stdout",
     "output_type": "stream",
     "text": [
      "🔍 Flattened 'new_car_detail' columns:\n",
      "['it', 'ft', 'bt', 'km', 'transmission', 'ownerNo', 'owner', 'oem', 'model', 'modelYear', 'centralVariantId', 'variantName', 'price', 'priceActual', 'priceSaving', 'priceFixedText', 'trendingText.imgUrl', 'trendingText.heading', 'trendingText.desc']\n",
      "✅ Preview of flattened new_car_detail:\n",
      "   it      ft         bt        km transmission  ownerNo      owner      oem  \\\n",
      "0   0  Petrol  Hatchback  1,20,000       Manual        3  3rd Owner   Maruti   \n",
      "1   0  Petrol        SUV    32,706       Manual        2  2nd Owner     Ford   \n",
      "2   0  Petrol  Hatchback    11,949       Manual        1  1st Owner     Tata   \n",
      "3   0  Petrol      Sedan    17,794       Manual        1  1st Owner  Hyundai   \n",
      "4   0  Diesel        SUV    60,000       Manual        1  1st Owner   Maruti   \n",
      "\n",
      "                model  modelYear  centralVariantId               variantName  \\\n",
      "0      Maruti Celerio       2015              3979                       VXI   \n",
      "1       Ford Ecosport       2018              6087  1.5 Petrol Titanium BSIV   \n",
      "2          Tata Tiago       2018              2983           1.2 Revotron XZ   \n",
      "3       Hyundai Xcent       2014              1867        1.2 Kappa S Option   \n",
      "4  Maruti SX4 S Cross       2015              4277             DDiS 200 Zeta   \n",
      "\n",
      "         price priceActual priceSaving priceFixedText  \\\n",
      "0     ₹ 4 Lakh                                   None   \n",
      "1  ₹ 8.11 Lakh                                   None   \n",
      "2  ₹ 5.85 Lakh                                   None   \n",
      "3  ₹ 4.62 Lakh                                   None   \n",
      "4  ₹ 7.90 Lakh                                   None   \n",
      "\n",
      "                                 trendingText.imgUrl trendingText.heading  \\\n",
      "0  https://stimg.cardekho.com/used-cars/common/ic...        Trending Car!   \n",
      "1  https://stimg.cardekho.com/used-cars/common/ic...        Trending Car!   \n",
      "2  https://stimg.cardekho.com/used-cars/common/ic...        Trending Car!   \n",
      "3  https://stimg.cardekho.com/used-cars/common/ic...        Trending Car!   \n",
      "4  https://stimg.cardekho.com/used-cars/common/ic...        Trending Car!   \n",
      "\n",
      "                     trendingText.desc  \n",
      "0  High chances of sale in next 6 days  \n",
      "1  High chances of sale in next 6 days  \n",
      "2  High chances of sale in next 6 days  \n",
      "3  High chances of sale in next 6 days  \n",
      "4  High chances of sale in next 6 days  \n",
      "Index(['it', 'ft', 'bt', 'km', 'transmission', 'ownerNo', 'owner', 'oem',\n",
      "       'model', 'modelYear', 'centralVariantId', 'variantName', 'price',\n",
      "       'priceActual', 'priceSaving', 'priceFixedText', 'trendingText.imgUrl',\n",
      "       'trendingText.heading', 'trendingText.desc'],\n",
      "      dtype='object')\n"
     ]
    }
   ],
   "source": [
    "# Convert new_car_detail dictionary column into a DataFrame\n",
    "detail_df = pd.json_normalize(combined_df['new_car_detail'])\n",
    "\n",
    "# Preview the flattened detail data\n",
    "print(\"🔍 Flattened 'new_car_detail' columns:\")\n",
    "print(detail_df.columns.tolist())\n",
    "print(\"✅ Preview of flattened new_car_detail:\")\n",
    "print(detail_df.head())\n",
    "print(detail_df.columns)\n"
   ]
  },
  {
   "cell_type": "code",
   "execution_count": 45,
   "id": "a259a3a3",
   "metadata": {},
   "outputs": [],
   "source": [
    "# Function to flatten any nested dictionary column\n",
    "import ast\n",
    "from pandas import json_normalize\n",
    "\n",
    "def flatten_dict_column(df, column_name):\n",
    "    \"\"\"\n",
    "    Converts a column of stringfield dictionaries to a actual dictionaries flatten them into a single column\n",
    "    \n",
    "    Parameters:\n",
    "        df (DataFrame): The DataFrame containing the column to be flattened\n",
    "        column_name (str): The name of the column containing the nested dictionaries    \n",
    "    \n",
    "    Returns:\n",
    "        DataFrame: The original DataFrame with the specified column flattened appended to it\n",
    "    \"\"\"\n",
    "    print(f\"🔍 Flattening column: {column_name} in DataFrame with shape {df.shape}...\")\n",
    "    \n",
    "    # Safely evaluate the stringified dictionary\n",
    "    df[column_name] = df[column_name].apply(lambda x: ast.literal_eval(x) if isinstance(x, str) else x)\n",
    "    \n",
    "    # Flatten the nested dictionaries\n",
    "    nested_df = json_normalize(df[column_name])\n",
    "\n",
    "    # Rename the columns to keep them identifiable\n",
    "    nested_df.columns = [f\"{column_name}_{col}\" for col in nested_df.columns] \n",
    "\n",
    "    # Drop the original nested column\n",
    "    df = df.drop(columns=[column_name], inplace=False)   \n",
    "\n",
    "    # Concatenate the flattened columns to the original DataFrame\n",
    "    df = pd.concat([df.reset_index(drop=True), nested_df.reset_index(drop=True)], axis=1)\n",
    "    \n",
    "    print(f\"✅ Added columns: {nested_df.columns.tolist()}\")\n",
    "    return df\n"
   ]
  },
  {
   "cell_type": "code",
   "execution_count": 46,
   "id": "5f5cec81",
   "metadata": {},
   "outputs": [
    {
     "name": "stdout",
     "output_type": "stream",
     "text": [
      "🔍 Flattening column: new_car_overview in DataFrame with shape (8369, 6)...\n",
      "✅ Added columns: ['new_car_overview_heading', 'new_car_overview_top', 'new_car_overview_bottomData']\n",
      "🔍 Flattening column: new_car_feature in DataFrame with shape (8369, 8)...\n",
      "✅ Added columns: ['new_car_feature_heading', 'new_car_feature_top', 'new_car_feature_data', 'new_car_feature_commonIcon']\n",
      "🔍 Flattening column: new_car_specs in DataFrame with shape (8369, 11)...\n",
      "✅ Added columns: ['new_car_specs_heading', 'new_car_specs_top', 'new_car_specs_data', 'new_car_specs_commonIcon']\n"
     ]
    }
   ],
   "source": [
    "# Apply it all 3 remaining columns\n",
    "\n",
    "# Apply to the other nested fields\n",
    "for col in ['new_car_overview', 'new_car_feature', 'new_car_specs']:\n",
    "    if col in combined_df.columns:\n",
    "        combined_df = flatten_dict_column(combined_df, col)\n",
    "    else:\n",
    "        print(f\"⚠️ Column '{col}' not found in DataFrame. Skipping...\")"
   ]
  },
  {
   "cell_type": "code",
   "execution_count": 47,
   "id": "87a76b6d",
   "metadata": {},
   "outputs": [
    {
     "name": "stdout",
     "output_type": "stream",
     "text": [
      "🗒️ Final columns after all flattening:\n",
      "['new_car_detail', 'car_links', 'City', 'new_car_overview_heading', 'new_car_overview_top', 'new_car_overview_bottomData', 'new_car_feature_heading', 'new_car_feature_top', 'new_car_feature_data', 'new_car_feature_commonIcon', 'new_car_specs_heading', 'new_car_specs_top', 'new_car_specs_data', 'new_car_specs_commonIcon']\n",
      "sample rows:\n",
      "                                      new_car_detail  \\\n",
      "0  {'it': 0, 'ft': 'Petrol', 'bt': 'Hatchback', '...   \n",
      "1  {'it': 0, 'ft': 'Petrol', 'bt': 'SUV', 'km': '...   \n",
      "\n",
      "                                           car_links       City  \\\n",
      "0  https://www.cardekho.com/used-car-details/used...  Bangalore   \n",
      "1  https://www.cardekho.com/buy-used-car-details/...  Bangalore   \n",
      "\n",
      "  new_car_overview_heading                               new_car_overview_top  \\\n",
      "0             Car overview  [{'key': 'Registration Year', 'value': '2015',...   \n",
      "1             Car overview  [{'key': 'Registration Year', 'value': 'Feb 20...   \n",
      "\n",
      "  new_car_overview_bottomData new_car_feature_heading  \\\n",
      "0                        None                Features   \n",
      "1                        None                Features   \n",
      "\n",
      "                                 new_car_feature_top  \\\n",
      "0  [{'value': 'Power Steering'}, {'value': 'Power...   \n",
      "1  [{'value': 'Power Steering'}, {'value': 'Power...   \n",
      "\n",
      "                                new_car_feature_data  \\\n",
      "0  [{'heading': 'Comfort & Convenience', 'subHead...   \n",
      "1  [{'heading': 'Comfort & Convenience', 'subHead...   \n",
      "\n",
      "                          new_car_feature_commonIcon new_car_specs_heading  \\\n",
      "0  https://stimg.cardekho.com/pwa/img/vdpN/tickG.svg        Specifications   \n",
      "1  https://stimg.cardekho.com/pwa/img/vdpN/tickG.svg        Specifications   \n",
      "\n",
      "                                   new_car_specs_top  \\\n",
      "0  [{'key': 'Mileage', 'value': '23.1 kmpl'}, {'k...   \n",
      "1  [{'key': 'Mileage', 'value': '17 kmpl'}, {'key...   \n",
      "\n",
      "                                  new_car_specs_data new_car_specs_commonIcon  \n",
      "0  [{'heading': 'Engine and Transmission', 'subHe...                           \n",
      "1  [{'heading': 'Engine and Transmission', 'subHe...                           \n"
     ]
    }
   ],
   "source": [
    "print(\"🗒️ Final columns after all flattening:\")\n",
    "print(combined_df.columns.tolist())\n",
    "\n",
    "print(\"sample rows:\")\n",
    "print(combined_df.head(2))"
   ]
  },
  {
   "cell_type": "markdown",
   "id": "0ef01ec2",
   "metadata": {},
   "source": [
    "We still have nested lists/dictionaries in our data. Let's flatten them using a function.  \n",
    "1. new_car_overview_top (list of dicts)\n",
    "2. new_car_feature_top (list of dicts)\n",
    "3. new_car_feture_data (list of dicts)\n",
    "4. new_car_specs_top (list of dicts)\n",
    "5. new_car_specs_data (dict of dicts)  \n",
    "\n",
    "Further flatten or extract key values for each list of dicts."
   ]
  },
  {
   "cell_type": "code",
   "execution_count": 49,
   "id": "faa658f4",
   "metadata": {},
   "outputs": [],
   "source": [
    "# Reuseable extract function for nested dictionaries\n",
    "def extract_spec_value(specs_list, key):\n",
    "    \"\"\"\n",
    "    Extracts the value of a given key from a list of dictionaries.\n",
    "    \n",
    "    Args:\n",
    "        specs_list (list): A list of dictionaries containing specifications.\n",
    "        key (str): The key for which the value needs to be extracted.\n",
    "    \n",
    "    Returns:\n",
    "        str or none: A list of values corresponding to the given key. else none.\n",
    "    \"\"\"\n",
    "    if isinstance(specs_list, list):\n",
    "        for item in specs_list:\n",
    "            if isinstance(item, dict) and item.get(\"key\") == key:\n",
    "                return item.get(\"Value\")\n",
    "    return None\n",
    "\n",
    "# 1.------ new_car_specs_top (list of dicts) --------\n",
    "# Apply for some key specs\n",
    "combined_df['Mileage'] = combined_df['new_car_specs_top'].apply(lambda x: extract_spec_value(x, 'Mileage'))\n",
    "combined_df['Engine'] = combined_df['new_car_specs_top'].apply(lambda x: extract_spec_value(x, 'Engine'))\n",
    "combined_df['Max Power'] = combined_df['new_car_specs_top'].apply(lambda x: extract_spec_value(x, 'Max Power'))\n",
    "combined_df['Torque'] = combined_df['new_car_specs_top'].apply(lambda x: extract_spec_value(x, 'Torque'))\n",
    "combined_df['Seats'] = combined_df['new_car_specs_top'].apply(lambda x: extract_spec_value(x, 'Seats'))\n",
    "\n",
    "#2.------- new_car_overview_top (list of dicts) --------\n",
    "# Apply for some key specs\n",
    "combined_df['Registration Year'] = combined_df['new_car_overview_top'].apply(lambda x: extract_spec_value(x, 'Registration Year'))\n",
    "combined_df['Insurance Validity'] = combined_df['new_car_overview_top'].apply(lambda x: extract_spec_value(x, 'Insurance Validity'))\n",
    "combined_df['Fuel Type'] = combined_df['new_car_overview_top'].apply(lambda x: extract_spec_value(x, 'Fuel Type'))\n",
    "combined_df['Kms Driven'] = combined_df['new_car_overview_top'].apply(lambda x: extract_spec_value(x, 'Kms Driven'))\n",
    "combined_df['RTO'] = combined_df['new_car_overview_top'].apply(lambda x: extract_spec_value(x, 'RTO'))\n",
    "combined_df['Ownership'] = combined_df['new_car_overview_top'].apply(lambda x: extract_spec_value(x, 'Ownership'))\n",
    "combined_df['Engine Displacement'] = combined_df['new_car_overview_top'].apply(lambda x: extract_spec_value(x, 'Engine Displacement'))\n",
    "combined_df['Transmission'] = combined_df['new_car_overview_top'].apply(lambda x: extract_spec_value(x, 'Transmission'))\n",
    "combined_df['Year of Manufacture'] = combined_df['new_car_overview_top'].apply(lambda x: extract_spec_value(x, 'Year of Manufacture'))\n",
    "\n",
    "# dropping the original nested columns\n",
    "combined_df.drop(['new_car_specs_top', 'new_car_overview_top','new_car_feature_top'], axis=1, inplace=True)\n",
    "\n"
   ]
  },
  {
   "cell_type": "code",
   "execution_count": null,
   "id": "c743e6b7",
   "metadata": {},
   "outputs": [],
   "source": []
  }
 ],
 "metadata": {
  "kernelspec": {
   "display_name": "venv",
   "language": "python",
   "name": "python3"
  },
  "language_info": {
   "codemirror_mode": {
    "name": "ipython",
    "version": 3
   },
   "file_extension": ".py",
   "mimetype": "text/x-python",
   "name": "python",
   "nbconvert_exporter": "python",
   "pygments_lexer": "ipython3",
   "version": "3.12.4"
  }
 },
 "nbformat": 4,
 "nbformat_minor": 5
}
