{
 "cells": [
  {
   "cell_type": "code",
   "execution_count": 1,
   "id": "b93dca28",
   "metadata": {},
   "outputs": [
    {
     "name": "stdout",
     "output_type": "stream",
     "text": [
      "Non-numeric columns: ['new_car_detail_16_trendingText.imgUrl', 'new_car_detail_17_trendingText.heading', 'new_car_detail_18_trendingText.desc', 'new_car_overview_0_heading', 'new_car_feature_0_heading', 'new_car_feature_3_commonIcon', 'new_car_specs_0_heading', 'new_car_overview_1_top_Registration Year', 'new_car_overview_1_top_Insurance Validity', 'new_car_overview_1_top_Fuel Type', 'new_car_overview_1_top_Seats', 'new_car_overview_1_top_Kms Driven', 'new_car_overview_1_top_RTO', 'new_car_overview_1_top_Ownership', 'new_car_overview_1_top_Engine Displacement', 'new_car_overview_1_top_Transmission', 'new_car_feature_1_top_item_0', 'new_car_feature_1_top_item_1', 'new_car_feature_1_top_item_2', 'new_car_feature_1_top_item_3', 'new_car_feature_1_top_item_4', 'new_car_feature_1_top_item_5', 'new_car_feature_1_top_item_6', 'new_car_feature_1_top_item_7', 'new_car_feature_1_top_item_8', 'new_car_feature_2_data_Comfort & Convenience', 'new_car_feature_2_data_Interior', 'new_car_feature_2_data_Exterior', 'new_car_feature_2_data_Safety', 'new_car_feature_2_data_Entertainment & Communication', 'new_car_specs_1_top_Mileage', 'new_car_specs_1_top_Engine', 'new_car_specs_1_top_Max Power', 'new_car_specs_1_top_Torque', 'new_car_specs_1_top_Wheel Size', 'new_car_specs_2_data_Engine and Transmission', 'new_car_specs_2_data_Dimensions & Capacity', 'new_car_specs_2_data_Miscellaneous']\n",
      "High-cardinality categorical columns: ['new_car_overview_1_top_Registration Year', 'new_car_overview_1_top_Kms Driven', 'new_car_overview_1_top_RTO', 'new_car_overview_1_top_Engine Displacement', 'new_car_specs_1_top_Mileage', 'new_car_specs_1_top_Engine', 'new_car_specs_1_top_Max Power', 'new_car_specs_1_top_Torque']\n",
      "Drop candidates: ['new_car_feature_2_data_Safety', 'new_car_overview_1_top_Seats', 'new_car_detail_17_trendingText.heading', 'new_car_overview_1_top_Fuel Type', 'new_car_overview_1_top_RTO', 'new_car_detail_18_trendingText.desc', 'new_car_overview_1_top_Transmission', 'new_car_feature_3_commonIcon', 'new_car_feature_1_top_item_8', 'new_car_specs_2_data_Dimensions & Capacity', 'new_car_feature_2_data_Entertainment & Communication', 'new_car_feature_2_data_Interior', 'new_car_feature_1_top_item_3', 'new_car_specs_1_top_Wheel Size', 'new_car_overview_1_top_Insurance Validity', 'new_car_feature_1_top_item_7', 'new_car_specs_0_heading', 'new_car_specs_1_top_Mileage', 'new_car_feature_1_top_item_2', 'new_car_detail_16_trendingText.imgUrl', 'new_car_overview_1_top_Registration Year', 'new_car_specs_1_top_Max Power', 'new_car_specs_1_top_Torque', 'new_car_overview_2_bottomData', 'new_car_specs_2_data_Engine and Transmission', 'new_car_feature_1_top_item_1', 'new_car_overview_1_top_Engine Displacement', 'new_car_feature_1_top_item_4', 'new_car_specs_3_commonIcon', 'new_car_specs_1_top_Engine', 'new_car_overview_1_top_Kms Driven', 'new_car_overview_1_top_Ownership', 'new_car_overview_0_heading', 'new_car_specs_2_data_Miscellaneous', 'new_car_feature_1_top_item_6', 'new_car_feature_2_data_Comfort & Convenience', 'new_car_feature_1_top_item_0', 'new_car_feature_0_heading', 'new_car_feature_2_data_Exterior', 'new_car_feature_1_top_item_5']\n",
      "Column summary:\n",
      "                                       dtype  nulls  n_unique\n",
      "car_links                           float64      0      8361\n",
      "new_car_detail_3_km                 float64      0      4090\n",
      "new_car_overview_1_top_Kms Driven    object      2      4089\n",
      "new_car_detail_10_centralVariantId  float64      0      2713\n",
      "new_car_detail_11_variantName       float64      0      2157\n",
      "...                                     ...    ...       ...\n",
      "new_car_specs_2_data_Miscellaneous   object      5         1\n",
      "new_car_specs_3_commonIcon          float64   8369         0\n",
      "new_car_overview_2_bottomData       float64   8369         0\n",
      "new_car_detail_14_priceSaving       float64   8369         0\n",
      "new_car_detail_15_priceFixedText    float64   8369         0\n",
      "\n",
      "[61 rows x 3 columns]\n"
     ]
    }
   ],
   "source": [
    "import pandas as pd\n",
    "import matplotlib.pyplot as plt\n",
    "import seaborn as sns\n",
    "\n",
    "# Load the dataset\n",
    "try:\n",
    "\tpreprocessed_df = pd.read_csv(r\"D:\\Education\\Data Science\\Project\\car-dheko-used-car-price-prediction\\data\\processed\\preprocessed_data.csv\")\n",
    "except FileNotFoundError:\n",
    "\tprint(\"File not found: './data/processed/preprocessed_data.csv'. Please check the file path or make sure the file exists.\")\n",
    "\tpreprocessed_df = None\n",
    "\n",
    "# Identify non-numeric columns and high-cardinality categorical columns\n",
    "non_numeric_cols = preprocessed_df.select_dtypes(exclude=['number']).columns.tolist()\n",
    "high_cardinality_cols = [col for col in non_numeric_cols if preprocessed_df[col].nunique() > 50 and preprocessed_df[col].dtype == 'object']\n",
    "# Display non-numeric and high-cardinality columns\n",
    "print(\"Non-numeric columns:\", non_numeric_cols)\n",
    "print(\"High-cardinality categorical columns:\", high_cardinality_cols)\n",
    "\n",
    "# identify irrelevant or meta-information columns\n",
    "irrelevant_keywords = ['imgUrl', 'heading', 'desc', 'feature_0_heading', 'specs_0_heading', 'commonIcon', 'bottomData']\n",
    "irrelevant = [col for col in preprocessed_df.columns if any(keyword in col for keyword in irrelevant_keywords)]\n",
    "\n",
    "# combine drop candidates\n",
    "drop_candidates = list(set(non_numeric_cols + high_cardinality_cols + irrelevant))\n",
    "# Display drop candidates\n",
    "print(\"Drop candidates:\", drop_candidates)\n",
    "\n",
    "# show column types and top unique counts\n",
    "column_summary = pd.DataFrame({\n",
    "\t'dtype': preprocessed_df.dtypes,\n",
    "\t'nulls': preprocessed_df.isnull().sum(),\n",
    "\t'n_unique': preprocessed_df.nunique(),\n",
    "}).sort_values(by='n_unique', ascending=False)\n",
    "# Diplay column summary\n",
    "print(\"Column summary:\\n\", column_summary)\n",
    "\n",
    "# Display the column summary in an csv\n",
    "column_summary.to_csv(r\"D:\\Education\\Data Science\\Project\\car-dheko-used-car-price-prediction\\data\\processed\\column_summary.csv\")\n",
    "\n",
    "\n"
   ]
  },
  {
   "cell_type": "code",
   "execution_count": 2,
   "id": "e0c38ae2",
   "metadata": {
    "slideshow": {
     "slide_type": "slide"
    }
   },
   "outputs": [
    {
     "name": "stdout",
     "output_type": "stream",
     "text": [
      "Shape of the model dataframe: (8369, 21)\n",
      "First few rows of the model dataframe:\n",
      "    car_links  city  new_car_detail_0_it  new_car_detail_1_ft  \\\n",
      "0   0.711603   0.0                  0.0                 1.00   \n",
      "1   0.010766   0.0                  0.0                 1.00   \n",
      "2   0.929426   0.0                  0.0                 1.00   \n",
      "3   0.138517   0.0                  0.0                 1.00   \n",
      "4   0.783612   0.0                  0.0                 0.25   \n",
      "\n",
      "   new_car_detail_2_bt  new_car_detail_3_km  new_car_detail_4_transmission  \\\n",
      "0                  0.3             0.057960                            1.0   \n",
      "1                  0.8             0.320616                            1.0   \n",
      "2                  0.3             0.107850                            1.0   \n",
      "3                  0.9             0.157985                            1.0   \n",
      "4                  0.8             0.648569                            1.0   \n",
      "\n",
      "   new_car_detail_5_ownerNo  new_car_detail_6_owner  new_car_detail_7_oem  \\\n",
      "0                       0.6                     0.6               0.62500   \n",
      "1                       0.4                     0.4               0.18750   \n",
      "2                       0.2                     0.2               0.90625   \n",
      "3                       0.2                     0.2               0.28125   \n",
      "4                       0.2                     0.2               0.62500   \n",
      "\n",
      "   ...  new_car_detail_9_modelYear  new_car_detail_10_centralVariantId  \\\n",
      "0  ...                    0.789474                            0.358244   \n",
      "1  ...                    0.868421                            0.548274   \n",
      "2  ...                    0.868421                            0.268458   \n",
      "3  ...                    0.763158                            0.167854   \n",
      "4  ...                    0.789474                            0.385108   \n",
      "\n",
      "   new_car_detail_11_variantName  new_car_detail_12_price  \\\n",
      "0                       0.837662                 400000.0   \n",
      "1                       0.133581                 811000.0   \n",
      "2                       0.059833                 585000.0   \n",
      "3                       0.046846                 462000.0   \n",
      "4                       0.457792                 790000.0   \n",
      "\n",
      "   new_car_detail_13_priceActual  new_car_detail_14_priceSaving  \\\n",
      "0                            0.0                            NaN   \n",
      "1                            0.0                            NaN   \n",
      "2                            0.0                            NaN   \n",
      "3                            0.0                            NaN   \n",
      "4                            0.0                            NaN   \n",
      "\n",
      "   new_car_detail_15_priceFixedText   car_age  \\\n",
      "0                               NaN  0.210526   \n",
      "1                               NaN  0.131579   \n",
      "2                               NaN  0.131579   \n",
      "3                               NaN  0.236842   \n",
      "4                               NaN  0.210526   \n",
      "\n",
      "   new_car_overview_1_top_Year of Manufacture  new_car_specs_1_top_Seats  \n",
      "0                                    0.619048                        5.0  \n",
      "1                                    0.761905                        5.0  \n",
      "2                                    0.761905                        5.0  \n",
      "3                                    0.571429                        5.0  \n",
      "4                                    0.619048                        5.0  \n",
      "\n",
      "[5 rows x 21 columns]\n"
     ]
    }
   ],
   "source": [
    "df_model = preprocessed_df.drop(columns=drop_candidates)\\\n",
    "# Display the shape of the model dataframe\n",
    "print(\"Shape of the model dataframe:\", df_model.shape)\n",
    "# Display the first few rows of the model dataframe\n",
    "print(\"First few rows of the model dataframe:\\n\", df_model.head())\n",
    "# Save the cleaned model dataframe\n",
    "df_model.to_csv(r\"D:\\Education\\Data Science\\Project\\car-dheko-used-car-price-prediction\\data\\processed\\model_data.csv\", index=False)\n"
   ]
  },
  {
   "cell_type": "code",
   "execution_count": 3,
   "id": "d468c9ef",
   "metadata": {},
   "outputs": [
    {
     "name": "stdout",
     "output_type": "stream",
     "text": [
      "\n",
      "Linear Regression Performance:\n",
      "Model: Linear Regression\n",
      "MAE: 551374.04, MSE: 2199699150628.25, R²: 0.26\n",
      "\n",
      "\n",
      "Random Forest Performance:\n",
      "Model: Random Forest\n",
      "MAE: 200169.57, MSE: 685267356825.63, R²: 0.77\n",
      "\n"
     ]
    }
   ],
   "source": [
    "from sklearn.model_selection import train_test_split\n",
    "from sklearn.linear_model import LinearRegression\n",
    "from sklearn.ensemble import RandomForestRegressor\n",
    "from sklearn.metrics import mean_absolute_error, mean_squared_error, r2_score\n",
    "\n",
    "# Step 1: Define features and target variable\n",
    "target = 'new_car_detail_12_price'\n",
    "x = df_model.drop(columns=[target])\n",
    "y = df_model[target]\n",
    "\n",
    "# Impute missing values in x (features)\n",
    "from sklearn.impute import SimpleImputer\n",
    "\n",
    "# Drop columns with all missing values before imputation\n",
    "x_non_allnan = x.dropna(axis=1, how='all')\n",
    "\n",
    "imputer = SimpleImputer(strategy='median')  # Or 'mean', 'most_frequent'\n",
    "X = pd.DataFrame(imputer.fit_transform(x_non_allnan), columns=x_non_allnan.columns)\n",
    "\n",
    "# Step 2: Train-test split\n",
    "X_train, X_test, y_train, y_test = train_test_split(X, y, test_size=0.2, random_state=42)\n",
    "\n",
    "# Step 3: Initialize models\n",
    "models = {\n",
    "    'Linear Regression': LinearRegression(),\n",
    "    'Random Forest': RandomForestRegressor(n_estimators=100, random_state=42)\n",
    "}\n",
    "\n",
    "# Step 4: Train and evaluate models\n",
    "for name, model in models.items():\n",
    "    model.fit(X_train, y_train)\n",
    "    y_pred = model.predict(X_test)\n",
    "    \n",
    "    # Calculate metrics\n",
    "    mae = mean_absolute_error(y_test, y_pred)\n",
    "    mse = mean_squared_error(y_test, y_pred)\n",
    "    r2 = r2_score(y_test, y_pred)\n",
    "    \n",
    "    # Display results\n",
    "    print(f\"\\n{name} Performance:\")\n",
    "    print(f\"Model: {name}\")\n",
    "    print(f\"MAE: {mae:.2f}, MSE: {mse:.2f}, R²: {r2:.2f}\\n\")"
   ]
  },
  {
   "cell_type": "markdown",
   "id": "12a2bb1e",
   "metadata": {},
   "source": [
    "#### Interpretation:  \n",
    "##### 📈 1. Linear Regression Performance  \n",
    "           MAE: 551374.04, MSE: 2199699150628.25, R²: 0.26 \n",
    "\n",
    "- MAE (Mean Absolute Error)\n",
    "  The model is off by approximately ₹5.5 lakhs on average — a substantial deviation, especially for budget or mid-range cars.\n",
    "\n",
    "- MSE (Mean Squared Error)\n",
    "  The very high MSE indicates that some predictions are significantly worse than others, with large errors driving this number up due to squaring.\n",
    "\n",
    "- R² (R-squared = 0.26)\n",
    "  The model explains only 26% of the variation in car prices — a weak linear fit.\n",
    "  👉 Conclusion: Linear regression is not suitable for this dataset. Likely, relationships between features and price are non-linear and more complex than a straight line can capture.\n",
    "\n",
    "##### 🌲 2. Random Forest Performance\n",
    "            MAE: 200169.57, MSE: 685267356825.63, R²: 0.77\n",
    "- MAE = ₹2 lakhs\n",
    "  Much more reasonable — less than half the error of Linear Regression. Acceptable for mid-range used cars.\n",
    "\n",
    "- MSE = 685B\n",
    "  Still high due to the wide price range of cars, but significantly lower than that of the linear model.\n",
    "\n",
    "- R² = 0.77\n",
    "  The Random Forest model explains 77% of the variance in car prices, which is quite strong.\n",
    "  👉 Conclusion: Random Forest effectively captures nonlinear relationships and interactions among features. It's a much better model for this problem."
   ]
  },
  {
   "cell_type": "markdown",
   "id": "b4302967",
   "metadata": {},
   "source": [
    "### **✅ Summary**\n",
    "| Metric   | Linear Regression | Random Forest |\n",
    "| -------- | ----------------- | ------------- |\n",
    "| MAE      | ₹5.5 Lakhs        | ₹2 Lakhs      |\n",
    "| MSE      | 2.2 Trillion      | 685 Billion   |\n",
    "| R² Score | 0.26              | 0.77          |\n"
   ]
  },
  {
   "cell_type": "markdown",
   "id": "7bf5fcc2",
   "metadata": {},
   "source": [
    "### **✅🔍Feature Importance (Random Forest)**  \n",
    "This helps you understand which features influence car prices most:"
   ]
  },
  {
   "cell_type": "code",
   "execution_count": 4,
   "id": "8f8d0b02",
   "metadata": {},
   "outputs": [
    {
     "data": {
      "image/png": "[encoded data removed]",
      "text/plain": [
       "<Figure size 1200x600 with 1 Axes>"
      ]
     },
     "metadata": {},
     "output_type": "display_data"
    }
   ],
   "source": [
    "import matplotlib.pyplot as plt\n",
    "import numpy as np\n",
    "\n",
    "# Get feature importances from Random Forest model\n",
    "importances = models[\"Random Forest\"].feature_importances_\n",
    "indices = np.argsort(importances)[::-1]\n",
    "features_sorted = X.columns[indices]\n",
    "\n",
    "# Plot feature importances\n",
    "plt.figure(figsize=(12, 6))\n",
    "plt.title(\"Feature Importances (Random Forest)\")\n",
    "plt.bar(range(X.shape[1]), importances[indices], align='center')\n",
    "plt.xticks(range(X.shape[1]), features_sorted, rotation=90)\n",
    "plt.tight_layout()  \n",
    "plt.show()"
   ]
  },
  {
   "cell_type": "markdown",
   "id": "5d1a9aee",
   "metadata": {},
   "source": [
    "### **✅ 🛠 Hyperparameter Tuning (GridSearchCV)**  \n",
    "Find the best combination of Random Forest parameters:"
   ]
  },
  {
   "cell_type": "code",
   "execution_count": 5,
   "id": "6234a8c5",
   "metadata": {},
   "outputs": [
    {
     "name": "stdout",
     "output_type": "stream",
     "text": [
      "Fitting 3 folds for each of 8 candidates, totalling 24 fits\n",
      "\n",
      "Best Random Forest R2: 0.777020701997324\n"
     ]
    }
   ],
   "source": [
    "from sklearn.model_selection import GridSearchCV\n",
    "from sklearn.ensemble import RandomForestRegressor\n",
    "\n",
    "# Grid Search Setup\n",
    "param_grid = {\n",
    "    'n_estimators': [100, 200],\n",
    "    'max_depth': [10, 20],\n",
    "    'min_samples_split': [2, 5]\n",
    "}\n",
    "grid_search = GridSearchCV(\n",
    "    estimator=RandomForestRegressor(random_state=42),\n",
    "    param_grid=param_grid,\n",
    "    cv=3,\n",
    "    scoring='r2',\n",
    "    n_jobs=-1,\n",
    "    verbose=2\n",
    ")     \n",
    "# Fit the grid search\n",
    "grid_search.fit(X_train, y_train)\n",
    "best_model = grid_search.best_estimator_\n",
    "\n",
    "# Evaluate the best model\n",
    "y_pred_best = best_model.predict(X_test)\n",
    "print(\"\\nBest Random Forest R2:\", r2_score(y_test, y_pred_best))\n"
   ]
  },
  {
   "cell_type": "markdown",
   "id": "5aab1fdc",
   "metadata": {},
   "source": [
    "### **💾 Save Model for Streamlit Deployment**"
   ]
  },
  {
   "cell_type": "code",
   "execution_count": 49,
   "id": "e8bbe9ce",
   "metadata": {},
   "outputs": [
    {
     "name": "stdout",
     "output_type": "stream",
     "text": [
      "Best model saved as 'best_random_forest_model.pkl'\n"
     ]
    }
   ],
   "source": [
    "import os\n",
    "import joblib\n",
    "\n",
    "# Navigate one level up from the notebook directory\n",
    "base_dir = os.path.abspath(\"..\") # \"..\" means parent directorty\n",
    "model_path = os.path.join(base_dir, \"model\")\n",
    "\n",
    "os.makedirs(\"model_path\", exist_ok=True)\n",
    "joblib.dump(best_model, os.path.join(model_path, \"best_random_forest_model.pkl\"))\n",
    "print(\"Best model saved as 'best_random_forest_model.pkl'\")\n"
   ]
  },
  {
   "cell_type": "code",
   "execution_count": 50,
   "id": "7b09b368",
   "metadata": {},
   "outputs": [
    {
     "data": {
      "text/plain": [
       "Index(['car_links', 'city', 'new_car_detail_0_it', 'new_car_detail_1_ft',\n",
       "       'new_car_detail_2_bt', 'new_car_detail_3_km',\n",
       "       'new_car_detail_4_transmission', 'new_car_detail_5_ownerNo',\n",
       "       'new_car_detail_6_owner', 'new_car_detail_7_oem',\n",
       "       'new_car_detail_8_model', 'new_car_detail_9_modelYear',\n",
       "       'new_car_detail_10_centralVariantId', 'new_car_detail_11_variantName',\n",
       "       'new_car_detail_13_priceActual', 'car_age',\n",
       "       'new_car_overview_1_top_Year of Manufacture',\n",
       "       'new_car_specs_1_top_Seats'],\n",
       "      dtype='object')"
      ]
     },
     "execution_count": 50,
     "metadata": {},
     "output_type": "execute_result"
    }
   ],
   "source": [
    "X_train.columns"
   ]
  }
 ],
 "metadata": {
  "kernelspec": {
   "display_name": "venv",
   "language": "python",
   "name": "python3"
  },
  "language_info": {
   "codemirror_mode": {
    "name": "ipython",
    "version": 3
   },
   "file_extension": ".py",
   "mimetype": "text/x-python",
   "name": "python",
   "nbconvert_exporter": "python",
   "pygments_lexer": "ipython3",
   "version": "3.12.4"
  }
 },
 "nbformat": 4,
 "nbformat_minor": 5
}
